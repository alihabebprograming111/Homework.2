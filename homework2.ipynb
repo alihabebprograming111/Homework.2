{
 "cells": [
  {
   "cell_type": "code",
   "execution_count": null,
   "metadata": {},
   "outputs": [],
   "source": [
    "import socket\n",
    "import threading\n",
    "import wikipedia\n",
    "Ip= socket.gethostbyname(socket.gethostname())\n",
    "PORT=5566\n",
    "ADDR=(IP,PORT)\n",
    "SIZE=1024\n",
    "FORMAT=\"utf.8\"\n",
    "DISCONNECT_MSG=\"!DISCONNECT\"\n",
    "def handle_client(conn,addr):\n",
    "    print(f\"[NEW CONNECTION] {addr} connected .\" )\n",
    "    connected=True\n",
    "    while connected :\n",
    "        msg=conn.recv(SIZE).decode(FORMAT)\n",
    "        if msg==DISCONNECT_MSG:\n",
    "            connected=False\n",
    "            print(f\"[{addr}] {msg}\")\n",
    "            # msg= f \"Msg received: {msg}\"\n",
    "            msg=wikipedia.summary(msg,sentences=1)\n",
    "            conn.send(msg.encode(FORMAT))\n",
    "            conn.close()\n",
    "def main():\n",
    "    print(\"[STARTING] Server is starting...\")\n",
    "    server=socket.socket(socket.AF_INET,socket.SOCK_STREAM)\n",
    "    server.bind(ADDR)\n",
    "    server.Listen()\n",
    "    print(f\"[LISTENING] Server is listening on {IP}:{PORT} \") :\n",
    "        While True:\n",
    "            conn,addr=server.accept()\n",
    "            thread=threading.thread(target=handle_client, args=(conn,addr))\n",
    "            thread.start()\n",
    "            print(f\"[ACTIVE CONNECTIONS] {threading.activeCount() - 1}\")\n",
    "            \n",
    "if__name__ ==\"__main__\":\n",
    "    main()\n",
    "            "
   ]
  }
 ],
 "metadata": {
  "kernelspec": {
   "display_name": "Python 3",
   "language": "python",
   "name": "python3"
  },
  "language_info": {
   "codemirror_mode": {
    "name": "ipython",
    "version": 3
   },
   "file_extension": ".py",
   "mimetype": "text/x-python",
   "name": "python",
   "nbconvert_exporter": "python",
   "pygments_lexer": "ipython3",
   "version": "3.7.4"
  }
 },
 "nbformat": 4,
 "nbformat_minor": 4
}
